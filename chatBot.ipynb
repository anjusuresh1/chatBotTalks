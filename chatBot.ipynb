{
 "cells": [
  {
   "cell_type": "code",
   "execution_count": null,
   "id": "8bb13c4f",
   "metadata": {},
   "outputs": [],
   "source": [
    "##Simple Chatbot using Python and NLP"
   ]
  },
  {
   "cell_type": "code",
   "execution_count": 1,
   "id": "9a87c3e7",
   "metadata": {},
   "outputs": [
    {
     "name": "stdout",
     "output_type": "stream",
     "text": [
      "pip 24.2 from /Users/anju/opt/anaconda3/lib/python3.9/site-packages/pip (python 3.9)\n",
      "Note: you may need to restart the kernel to use updated packages.\n"
     ]
    }
   ],
   "source": [
    "pip --version"
   ]
  },
  {
   "cell_type": "code",
   "execution_count": 2,
   "id": "2b0c92eb",
   "metadata": {},
   "outputs": [
    {
     "name": "stdout",
     "output_type": "stream",
     "text": [
      "Requirement already satisfied: nltk in /Users/anju/opt/anaconda3/lib/python3.9/site-packages (3.7)\n",
      "Requirement already satisfied: click in /Users/anju/opt/anaconda3/lib/python3.9/site-packages (from nltk) (8.0.4)\n",
      "Requirement already satisfied: joblib in /Users/anju/opt/anaconda3/lib/python3.9/site-packages (from nltk) (1.1.1)\n",
      "Requirement already satisfied: regex>=2021.8.3 in /Users/anju/opt/anaconda3/lib/python3.9/site-packages (from nltk) (2022.7.9)\n",
      "Requirement already satisfied: tqdm in /Users/anju/opt/anaconda3/lib/python3.9/site-packages (from nltk) (4.65.0)\n",
      "Note: you may need to restart the kernel to use updated packages.\n"
     ]
    }
   ],
   "source": [
    "pip install nltk"
   ]
  },
  {
   "cell_type": "code",
   "execution_count": 3,
   "id": "2f996543",
   "metadata": {},
   "outputs": [],
   "source": [
    "from nltk.chat.util import Chat, reflections"
   ]
  },
  {
   "cell_type": "code",
   "execution_count": 6,
   "id": "536b5a12",
   "metadata": {},
   "outputs": [
    {
     "name": "stdout",
     "output_type": "stream",
     "text": [
      "Name: nltk\n",
      "Version: 3.7\n",
      "Summary: Natural Language Toolkit\n",
      "Home-page: https://www.nltk.org/\n",
      "Author: NLTK Team\n",
      "Author-email: nltk.team@gmail.com\n",
      "License: Apache License, Version 2.0\n",
      "Location: /Users/anju/opt/anaconda3/lib/python3.9/site-packages\n",
      "Requires: click, joblib, regex, tqdm\n",
      "Required-by: textblob\n",
      "Note: you may need to restart the kernel to use updated packages.\n"
     ]
    }
   ],
   "source": [
    "pip show nltk"
   ]
  },
  {
   "cell_type": "code",
   "execution_count": 7,
   "id": "2232bc6d",
   "metadata": {},
   "outputs": [
    {
     "name": "stderr",
     "output_type": "stream",
     "text": [
      "[nltk_data] Downloading package punkt to /Users/anju/nltk_data...\n",
      "[nltk_data]   Unzipping tokenizers/punkt.zip.\n"
     ]
    },
    {
     "data": {
      "text/plain": [
       "True"
      ]
     },
     "execution_count": 7,
     "metadata": {},
     "output_type": "execute_result"
    }
   ],
   "source": [
    "import nltk\n",
    "nltk.download('punkt')"
   ]
  },
  {
   "cell_type": "code",
   "execution_count": 8,
   "id": "092bfa23",
   "metadata": {},
   "outputs": [],
   "source": [
    "pairs=[\n",
    "    [\n",
    "        r\"Hi|Hey|Hello\",\n",
    "        [\"Hello!\",\"Hello there!\",\"Hi! How can I assist you today?\"]\n",
    "    ],\n",
    "    [\n",
    "        r\"What is your name?\",\n",
    "        [\"I am your ChatBot\",\"You can call me ChatBot.\"]\n",
    "    ],\n",
    "    [\n",
    "        r\"sorry (.*)\",\n",
    "        [\"It's alright\",\"No problem\",\"Dont worry about it.\"]\n",
    "    ],\n",
    "    [\n",
    "        r\"How are you?\",\n",
    "        [\"I am a chatBot, so I am doing good.\",\"I am fine, what about you?\"]\n",
    "    ],\n",
    "    [\n",
    "        r\"quit\",\n",
    "        [\"Bye! It was nice talking to you.\",\"Bye, Take care!\"]\n",
    "    ],\n",
    "    [\n",
    "        r\"(.*)\",\n",
    "        [\"Sorry, I am not sure I understood that.\",\"Can you please rephrase it?\"]\n",
    "    ]\n",
    "]"
   ]
  },
  {
   "cell_type": "code",
   "execution_count": null,
   "id": "97e7fe53",
   "metadata": {},
   "outputs": [
    {
     "name": "stdout",
     "output_type": "stream",
     "text": [
      "Hi! I am your chatBot. Type 'quit' to exit\n",
      ">hi\n",
      "Hi! How can I assist you today?\n",
      ">hello\n",
      "Hello there!\n",
      ">Hi\n",
      "Hi! How can I assist you today?\n"
     ]
    }
   ],
   "source": [
    "def chatBot():\n",
    "    print(\"Hi! I am your chatBot. Type 'quit' to exit\")\n",
    "    chat = Chat(pairs, reflections)\n",
    "    chat.converse()\n",
    "\n",
    "if __name__ == \"__main__\":\n",
    "    chatBot()"
   ]
  },
  {
   "cell_type": "code",
   "execution_count": null,
   "id": "00c48a44",
   "metadata": {},
   "outputs": [],
   "source": []
  }
 ],
 "metadata": {
  "kernelspec": {
   "display_name": "Python 3 (ipykernel)",
   "language": "python",
   "name": "python3"
  },
  "language_info": {
   "codemirror_mode": {
    "name": "ipython",
    "version": 3
   },
   "file_extension": ".py",
   "mimetype": "text/x-python",
   "name": "python",
   "nbconvert_exporter": "python",
   "pygments_lexer": "ipython3",
   "version": "3.9.12"
  }
 },
 "nbformat": 4,
 "nbformat_minor": 5
}
